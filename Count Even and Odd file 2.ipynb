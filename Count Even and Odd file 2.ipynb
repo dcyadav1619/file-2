{
 "cells": [
  {
   "cell_type": "code",
   "execution_count": 2,
   "id": "30e4ef8e",
   "metadata": {},
   "outputs": [
    {
     "name": "stdout",
     "output_type": "stream",
     "text": [
      "Number of even numbers :  4\n",
      "Number of odd numbers :  5\n"
     ]
    }
   ],
   "source": [
    "num = (1,2,3,4,5,6,7,8,9)\n",
    "count1 = 0\n",
    "count2 = 0\n",
    "for i in range(len(num)):\n",
    "    if(num[i]%2 == 0):\n",
    "        count1 += 1\n",
    "    else:\n",
    "        count2 += 1\n",
    "print('Number of even numbers : ',count1)\n",
    "print('Number of odd numbers : ',count2)"
   ]
  },
  {
   "cell_type": "code",
   "execution_count": null,
   "id": "02bda13d",
   "metadata": {},
   "outputs": [],
   "source": []
  }
 ],
 "metadata": {
  "kernelspec": {
   "display_name": "Python 3",
   "language": "python",
   "name": "python3"
  },
  "language_info": {
   "codemirror_mode": {
    "name": "ipython",
    "version": 3
   },
   "file_extension": ".py",
   "mimetype": "text/x-python",
   "name": "python",
   "nbconvert_exporter": "python",
   "pygments_lexer": "ipython3",
   "version": "3.8.8"
  }
 },
 "nbformat": 4,
 "nbformat_minor": 5
}
